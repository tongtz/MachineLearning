{
 "cells": [
  {
   "cell_type": "markdown",
   "metadata": {},
   "source": [
    "<a href='https://ai.meng.duke.edu'> = <img align=\"left\" style=\"padding-top:10px;\" src=https://storage.googleapis.com/aipi_datasets/Duke-AIPI-Logo.png>"
   ]
  },
  {
   "cell_type": "markdown",
   "metadata": {},
   "source": [
    "# Introduction to PyTorch"
   ]
  },
  {
   "cell_type": "code",
   "execution_count": 1,
   "metadata": {},
   "outputs": [],
   "source": [
    "# Install pytorch and torchvision if you have not already done so\n",
    "# pip3 install torch torchvision"
   ]
  },
  {
   "cell_type": "code",
   "execution_count": 1,
   "metadata": {},
   "outputs": [
    {
     "data": {
      "text/plain": [
       "<torch._C.Generator at 0x7fac5d3bda50>"
      ]
     },
     "execution_count": 1,
     "metadata": {},
     "output_type": "execute_result"
    }
   ],
   "source": [
    "import numpy as np\n",
    "import pandas as pd\n",
    "import torch\n",
    "from torchvision import datasets, transforms\n",
    "from torch.utils.data import DataLoader, TensorDataset\n",
    "\n",
    "from sklearn.model_selection import train_test_split\n",
    "from sklearn.preprocessing import StandardScaler\n",
    "import matplotlib.pyplot as plt\n",
    "\n",
    "torch.manual_seed(0)"
   ]
  },
  {
   "cell_type": "markdown",
   "metadata": {},
   "source": [
    "# Introduction to Tensors"
   ]
  },
  {
   "cell_type": "markdown",
   "metadata": {},
   "source": [
    "The basic object used in PyTorch is the 'Tensor' which is equivalent to 'ndarray' in Numpy. Similar to Numpy, there are multiple types of Tensors, e.g. Float, Double, Int, Long, etc. Generally we will use FloatTensors, and it is the default type for most functions."
   ]
  },
  {
   "cell_type": "code",
   "execution_count": 2,
   "metadata": {},
   "outputs": [
    {
     "data": {
      "text/plain": [
       "tensor([[1., 2.],\n",
       "        [3., 4.]])"
      ]
     },
     "execution_count": 2,
     "metadata": {},
     "output_type": "execute_result"
    }
   ],
   "source": [
    "# Create a tensor manually\n",
    "x_manual = torch.tensor([[1.0, 2.0], [3.0, 4.0]])\n",
    "x_manual"
   ]
  },
  {
   "cell_type": "code",
   "execution_count": 3,
   "metadata": {},
   "outputs": [
    {
     "name": "stdout",
     "output_type": "stream",
     "text": [
      "tensor([[1., 1., 1., 1.],\n",
      "        [1., 1., 1., 1.],\n",
      "        [1., 1., 1., 1.]])\n",
      "tensor([[0., 0., 0., 0.],\n",
      "        [0., 0., 0., 0.],\n",
      "        [0., 0., 0., 0.]])\n",
      "tensor([[0.4963, 0.7682, 0.0885, 0.1320],\n",
      "        [0.3074, 0.6341, 0.4901, 0.8964],\n",
      "        [0.4556, 0.6323, 0.3489, 0.4017]])\n"
     ]
    }
   ],
   "source": [
    "x_ones = torch.ones(3,4)\n",
    "print(x_ones)\n",
    "\n",
    "x_zeros = torch.zeros(3,4)\n",
    "print(x_zeros)\n",
    "\n",
    "x_uniform = torch.rand(3,4)\n",
    "print(x_uniform)"
   ]
  },
  {
   "cell_type": "code",
   "execution_count": 4,
   "metadata": {},
   "outputs": [
    {
     "name": "stdout",
     "output_type": "stream",
     "text": [
      "[1. 2. 3.]\n",
      "tensor([1., 2., 3.])\n"
     ]
    }
   ],
   "source": [
    "# Create a tensor from a NumPy array\n",
    "np_array = np.array([1., 2., 3.], dtype=np.float32)\n",
    "print(np_array)\n",
    "torch_tensor = torch.from_numpy(np_array)\n",
    "print(torch_tensor)"
   ]
  },
  {
   "cell_type": "code",
   "execution_count": 8,
   "metadata": {},
   "outputs": [
    {
     "name": "stdout",
     "output_type": "stream",
     "text": [
      "tensor([0.0223, 0.1689, 0.2939])\n",
      "[0.02232575 0.16885895 0.29388845]\n"
     ]
    }
   ],
   "source": [
    "# Create a NumPy array from a tensor\n",
    "another_tensor = torch.rand(3)\n",
    "print(another_tensor)\n",
    "another_np_array = another_tensor.numpy()\n",
    "print(another_np_array)\n"
   ]
  },
  {
   "cell_type": "code",
   "execution_count": 5,
   "metadata": {},
   "outputs": [
    {
     "name": "stdout",
     "output_type": "stream",
     "text": [
      "tensor([[0.0223, 0.1689, 0.2939],\n",
      "        [0.5185, 0.6977, 0.8000],\n",
      "        [0.1610, 0.2823, 0.6816]])\n",
      "tensor([0.1689, 0.6977, 0.2823])\n",
      "tensor([[0.0223, 0.1689, 0.2939],\n",
      "        [0.5185, 0.6977, 0.8000]])\n"
     ]
    }
   ],
   "source": [
    "# Use indexing to get slices from a tensor\n",
    "A = torch.rand(3,3)\n",
    "print(A)\n",
    "print(A[:, 1])\n",
    "print(A[:2, :])"
   ]
  },
  {
   "cell_type": "code",
   "execution_count": 6,
   "metadata": {},
   "outputs": [
    {
     "name": "stdout",
     "output_type": "stream",
     "text": [
      "A+B\n",
      "tensor([[1.2203, 1.3291, 1.0501],\n",
      "        [0.6892, 0.7036, 0.9845],\n",
      "        [0.2443, 1.1150, 1.0965]])\n",
      "Elementwise multiplication\n",
      "tensor([[0.2792, 0.3701, 0.1538],\n",
      "        [0.1132, 0.0833, 0.0302],\n",
      "        [0.0075, 0.1722, 0.2700]])\n",
      "Dot product\n",
      "tensor([[0.5683, 1.7256, 0.8057],\n",
      "        [0.4754, 1.3601, 0.7802],\n",
      "        [0.1387, 0.4088, 0.2823]])\n"
     ]
    }
   ],
   "source": [
    "A = torch.rand(3,3)\n",
    "B = torch.rand(3,3)\n",
    "\n",
    "# Add tensors together\n",
    "print(\"A+B\")\n",
    "print(A+B)\n",
    "\n",
    "# Element-wise multiply tensors\n",
    "print(\"Elementwise multiplication\")\n",
    "print(A*B)\n",
    "\n",
    "# Matrix-Matrix multiplication of tensors\n",
    "print(\"Dot product\")\n",
    "print(torch.mm(A,B))"
   ]
  },
  {
   "cell_type": "code",
   "execution_count": 8,
   "metadata": {},
   "outputs": [
    {
     "data": {
      "text/plain": [
       "False"
      ]
     },
     "execution_count": 8,
     "metadata": {},
     "output_type": "execute_result"
    }
   ],
   "source": [
    "# Check if GPU is available, otherwise use CPU\n",
    "if torch.cuda.is_available():\n",
    "    cuda = True\n",
    "else:\n",
    "    cuda = False\n",
    "cuda"
   ]
  },
  {
   "cell_type": "code",
   "execution_count": 9,
   "metadata": {},
   "outputs": [
    {
     "data": {
      "text/plain": [
       "tensor([[0.3558, 0.1079, 0.0682,  ..., 0.5506, 0.5464, 0.1518],\n",
       "        [0.4867, 0.7275, 0.3683,  ..., 0.2273, 0.0821, 0.0421],\n",
       "        [0.7542, 0.9204, 0.3720,  ..., 0.9800, 0.4982, 0.0679],\n",
       "        ...,\n",
       "        [0.6559, 0.3565, 0.9990,  ..., 0.1482, 0.3409, 0.2187],\n",
       "        [0.8479, 0.3279, 0.9238,  ..., 0.7206, 0.4408, 0.1962],\n",
       "        [0.7649, 0.3776, 0.7856,  ..., 0.2745, 0.0313, 0.0507]])"
      ]
     },
     "execution_count": 9,
     "metadata": {},
     "output_type": "execute_result"
    }
   ],
   "source": [
    "# Attach a variable to the GPU\n",
    "mat_gpu = torch.rand(5000, 5000)\n",
    "if cuda:\n",
    "    mat_gpu = mat_gpu.cuda()\n",
    "mat_gpu"
   ]
  },
  {
   "cell_type": "markdown",
   "metadata": {},
   "source": [
    "## Autograd\n",
    "The key thing that PyTorch provides us is its Autograd capability which provides automatic differentiation. A Tensor keeps its value and the gradient with respect to this Tensor value. Almost all of built-in operations in PyTorch supports automatic differentiation. To use it we can call `.backward()` on a computation graph, e.g. neural network, after we finish our computation on the graph, and we can automatically get the accumulated gradient for each Tensor (which has specified `requires_grad=True`) in the computational graph"
   ]
  },
  {
   "cell_type": "code",
   "execution_count": 10,
   "metadata": {},
   "outputs": [
    {
     "name": "stdout",
     "output_type": "stream",
     "text": [
      "x = tensor(2.)\n",
      "w = tensor(0.5000, requires_grad=True)\n",
      "b = tensor(0.1000, requires_grad=True)\n",
      "y = tensor(1.1000, grad_fn=<AddBackward0>)\n"
     ]
    }
   ],
   "source": [
    "x = torch.tensor(2.0, requires_grad=False)\n",
    "w = torch.tensor(0.5, requires_grad=True)\n",
    "b = torch.tensor(0.1, requires_grad=True)\n",
    "print('x =',x)\n",
    "print('w =',w)\n",
    "print('b =',b)\n",
    "\n",
    "# Define a computational graph\n",
    "y = w*x + b #y = 0.5x + 0.1 and y(2) = 1.1\n",
    "print('y =',y)"
   ]
  },
  {
   "cell_type": "markdown",
   "metadata": {},
   "source": [
    "Now let's calculate the gradient (derivative) of the above function y=wx+b with respect to our weight w and bias term b.  We can calculate them manually:\n",
    "\n",
    "For w:\n",
    "$$\n",
    "\\frac{\\partial y}{\\partial w} = \\frac{\\partial}{\\partial w}\\left(wx + b\\right) = x\\\\\n",
    "\\text{and}\\\\\n",
    "\\displaystyle \\frac{\\partial y}{\\partial w}\\Bigr|_{x=2} = 2 \n",
    "$$\n",
    "For b:\n",
    "$$\n",
    "\\frac{\\partial y}{\\partial b} = \\frac{\\partial}{\\partial b}\\left(wx + b\\right) = 1\\\\\n",
    "\\text{and}\\\\\n",
    "\\displaystyle \\frac{\\partial y}{\\partial b}\\Bigr|_{x=2} = 1 \n",
    "$$"
   ]
  },
  {
   "cell_type": "code",
   "execution_count": 11,
   "metadata": {},
   "outputs": [
    {
     "name": "stdout",
     "output_type": "stream",
     "text": [
      "Gradient with respect to w: tensor(2.)\n",
      "Gradient with respect to b: tensor(1.)\n"
     ]
    }
   ],
   "source": [
    "# Compute gradients of y with respect to each variable x,w,b\n",
    "y.backward()\n",
    "\n",
    "print('Gradient with respect to w:',w.grad)\n",
    "print('Gradient with respect to b:',b.grad)"
   ]
  },
  {
   "cell_type": "markdown",
   "metadata": {},
   "source": [
    "# Adaline using Autograd"
   ]
  },
  {
   "cell_type": "code",
   "execution_count": 12,
   "metadata": {},
   "outputs": [],
   "source": [
    "class Adaline_torch:\n",
    "    \n",
    "    def __init__(self,eta=0.01,n_iter=100,random_state=0):\n",
    "        self.eta=eta\n",
    "        self.n_iter=n_iter\n",
    "        self.random_state=random_state\n",
    "    \n",
    "    def fit(self,X,y):\n",
    "        P = X.shape[1] # Number of features\n",
    "        # Initialize the weights to small random numbers and be sure to set requires_grad=True\n",
    "        self.weights = torch.rand(P,requires_grad=True)\n",
    "        \n",
    "        # Train adaline using batch gradient descent\n",
    "        self.cost_path=[]\n",
    "        for i in range(self.n_iter):\n",
    "            # Zero out the weights gradient each iteration\n",
    "            if self.weights.grad is not None:\n",
    "                self.weights.grad.zero_()\n",
    "            # Calculate yhat\n",
    "            yhat = self.predict(X)\n",
    "            # Calculate the cost function - Sum of Squared Error\n",
    "            cost = torch.sum(0.5 * (y-yhat)**2)\n",
    "            # Gradient of cost function with respect to all weights\n",
    "            cost.backward()\n",
    "            # Update the weights. Gradient of weights is now stored in self.weights.grad\n",
    "            with torch.no_grad():\n",
    "                self.weights -= self.eta * self.weights.grad\n",
    "            # Add cost for the iteration to total cost counter\n",
    "            self.cost_path.append(cost)\n",
    "        return self\n",
    "    \n",
    "    def predict(self,X):\n",
    "        yhat = torch.mv(X,self.weights)\n",
    "        return yhat"
   ]
  },
  {
   "cell_type": "code",
   "execution_count": 13,
   "metadata": {},
   "outputs": [
    {
     "data": {
      "image/png": "[encoded data removed]",
      "text/plain": [
       "<Figure size 432x288 with 1 Axes>"
      ]
     },
     "metadata": {
      "needs_background": "light"
     },
     "output_type": "display_data"
    }
   ],
   "source": [
    "from sklearn.datasets import load_breast_cancer\n",
    "data=load_breast_cancer(as_frame=True)\n",
    "X,y=data.data,data.target\n",
    "# Since the default in the file is 0=malignant 1=benign we want to reverse these\n",
    "y=(y==0).astype(int)\n",
    "X,y= np.array(X),np.array(y)\n",
    "\n",
    "# Let's set aside a test set and use the remainder for training and cross-validation\n",
    "X_train,X_test,y_train,y_test = train_test_split(X, y, random_state=0,test_size=0.2)\n",
    "\n",
    "# Let's scale our data to help the algorithm converge faster\n",
    "scaler = StandardScaler()\n",
    "X_train_scaled = scaler.fit_transform(X_train)\n",
    "X_test_scaled = scaler.transform(X_test)\n",
    "\n",
    "# Convert to tensors\n",
    "X_train_scaled_tensor = torch.from_numpy(X_train_scaled).float()\n",
    "y_train_tensor = torch.from_numpy(y_train).float()\n",
    "\n",
    "adaline_model = Adaline_torch(eta=0.0001,n_iter=100)\n",
    "adaline_model.fit(X_train_scaled_tensor,y_train_tensor)\n",
    "plt.plot(range(len(adaline_model.cost_path)),adaline_model.cost_path)\n",
    "plt.xlabel('Epoch')\n",
    "plt.ylabel('Cost')\n",
    "plt.show()"
   ]
  },
  {
   "cell_type": "code",
   "execution_count": null,
   "metadata": {},
   "outputs": [],
   "source": []
  }
 ],
 "metadata": {
  "kernelspec": {
   "display_name": "Python 3",
   "language": "python",
   "name": "python3"
  },
  "language_info": {
   "codemirror_mode": {
    "name": "ipython",
    "version": 3
   },
   "file_extension": ".py",
   "mimetype": "text/x-python",
   "name": "python",
   "nbconvert_exporter": "python",
   "pygments_lexer": "ipython3",
   "version": "3.7.1"
  },
  "latex_envs": {
   "LaTeX_envs_menu_present": true,
   "autoclose": false,
   "autocomplete": true,
   "bibliofile": "biblio.bib",
   "cite_by": "apalike",
   "current_citInitial": 1,
   "eqLabelWithNumbers": true,
   "eqNumInitial": 1,
   "hotkeys": {
    "equation": "Ctrl-E",
    "itemize": "Ctrl-I"
   },
   "labels_anchors": false,
   "latex_user_defs": false,
   "report_style_numbering": false,
   "user_envs_cfg": false
  },
  "toc": {
   "base_numbering": 1,
   "nav_menu": {},
   "number_sections": true,
   "sideBar": true,
   "skip_h1_title": false,
   "title_cell": "Table of Contents",
   "title_sidebar": "Contents",
   "toc_cell": false,
   "toc_position": {},
   "toc_section_display": true,
   "toc_window_display": false
  }
 },
 "nbformat": 4,
 "nbformat_minor": 4
}

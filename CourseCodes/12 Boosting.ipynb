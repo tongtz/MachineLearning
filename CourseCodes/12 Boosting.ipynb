{
 "cells": [
  {
   "cell_type": "markdown",
   "metadata": {},
   "source": [
    "<a href='https://ai.meng.duke.edu'> = <img align=\"left\" style=\"padding-top:10px;\" src=https://storage.googleapis.com/aipi_datasets/Duke-AIPI-Logo.png>"
   ]
  },
  {
   "cell_type": "markdown",
   "metadata": {},
   "source": [
    "# Boosting Models"
   ]
  },
  {
   "cell_type": "code",
   "execution_count": 106,
   "metadata": {},
   "outputs": [],
   "source": [
    "import pandas as pd\n",
    "import numpy as np\n",
    "import matplotlib.pyplot as plt\n",
    "from matplotlib.colors import ListedColormap\n",
    "import seaborn as sns\n",
    "from sklearn.tree import DecisionTreeClassifier, DecisionTreeRegressor, plot_tree\n",
    "from sklearn.ensemble import RandomForestClassifier,AdaBoostClassifier, GradientBoostingClassifier\n",
    "from sklearn.ensemble import VotingClassifier, StackingClassifier\n",
    "from sklearn.model_selection import train_test_split, cross_val_score, GridSearchCV\n",
    "from sklearn.linear_model import LogisticRegression\n",
    "\n",
    "import warnings\n",
    "warnings.filterwarnings(\"ignore\")"
   ]
  },
  {
   "cell_type": "code",
   "execution_count": 119,
   "metadata": {},
   "outputs": [],
   "source": [
    "# Run this before any other code cell\n",
    "# This downloads the csv data files into the same directory where you have saved this notebook\n",
    "\n",
    "import urllib.request\n",
    "from pathlib import Path\n",
    "import os\n",
    "path = Path()\n",
    "\n",
    "# Dictionary of file names and download links\n",
    "files = {'Heart.csv':'https://storage.googleapis.com/aipi_datasets/Heart.csv'}\n",
    "\n",
    "# Download each file\n",
    "for key,value in files.items():\n",
    "    filename = path/key\n",
    "    url = value\n",
    "    # If the file does not already exist in the directory, download it\n",
    "    if not os.path.exists(filename):\n",
    "        urllib.request.urlretrieve(url,filename)"
   ]
  },
  {
   "cell_type": "markdown",
   "metadata": {},
   "source": [
    "We will be working with a dataset about 303 patients, including demographic data and physiological data collected for the study on each patient.  A full description of the dataset can be found at https://archive.ics.uci.edu/ml/datasets/heart+disease."
   ]
  },
  {
   "cell_type": "code",
   "execution_count": 120,
   "metadata": {},
   "outputs": [
    {
     "data": {
      "text/html": [
       "<div>\n",
       "<style scoped>\n",
       "    .dataframe tbody tr th:only-of-type {\n",
       "        vertical-align: middle;\n",
       "    }\n",
       "\n",
       "    .dataframe tbody tr th {\n",
       "        vertical-align: top;\n",
       "    }\n",
       "\n",
       "    .dataframe thead th {\n",
       "        text-align: right;\n",
       "    }\n",
       "</style>\n",
       "<table border=\"1\" class=\"dataframe\">\n",
       "  <thead>\n",
       "    <tr style=\"text-align: right;\">\n",
       "      <th></th>\n",
       "      <th>Age</th>\n",
       "      <th>Sex</th>\n",
       "      <th>ChestPain</th>\n",
       "      <th>RestBP</th>\n",
       "      <th>Chol</th>\n",
       "      <th>Fbs</th>\n",
       "      <th>RestECG</th>\n",
       "      <th>MaxHR</th>\n",
       "      <th>ExAng</th>\n",
       "      <th>Oldpeak</th>\n",
       "      <th>Slope</th>\n",
       "      <th>Ca</th>\n",
       "      <th>Thal</th>\n",
       "      <th>AHD</th>\n",
       "    </tr>\n",
       "  </thead>\n",
       "  <tbody>\n",
       "    <tr>\n",
       "      <th>1</th>\n",
       "      <td>63</td>\n",
       "      <td>1</td>\n",
       "      <td>3</td>\n",
       "      <td>145</td>\n",
       "      <td>233</td>\n",
       "      <td>1</td>\n",
       "      <td>2</td>\n",
       "      <td>150</td>\n",
       "      <td>0</td>\n",
       "      <td>2.3</td>\n",
       "      <td>3</td>\n",
       "      <td>0.0</td>\n",
       "      <td>0</td>\n",
       "      <td>0</td>\n",
       "    </tr>\n",
       "    <tr>\n",
       "      <th>2</th>\n",
       "      <td>67</td>\n",
       "      <td>1</td>\n",
       "      <td>0</td>\n",
       "      <td>160</td>\n",
       "      <td>286</td>\n",
       "      <td>0</td>\n",
       "      <td>2</td>\n",
       "      <td>108</td>\n",
       "      <td>1</td>\n",
       "      <td>1.5</td>\n",
       "      <td>2</td>\n",
       "      <td>3.0</td>\n",
       "      <td>1</td>\n",
       "      <td>1</td>\n",
       "    </tr>\n",
       "    <tr>\n",
       "      <th>3</th>\n",
       "      <td>67</td>\n",
       "      <td>1</td>\n",
       "      <td>0</td>\n",
       "      <td>120</td>\n",
       "      <td>229</td>\n",
       "      <td>0</td>\n",
       "      <td>2</td>\n",
       "      <td>129</td>\n",
       "      <td>1</td>\n",
       "      <td>2.6</td>\n",
       "      <td>2</td>\n",
       "      <td>2.0</td>\n",
       "      <td>2</td>\n",
       "      <td>1</td>\n",
       "    </tr>\n",
       "    <tr>\n",
       "      <th>4</th>\n",
       "      <td>37</td>\n",
       "      <td>1</td>\n",
       "      <td>1</td>\n",
       "      <td>130</td>\n",
       "      <td>250</td>\n",
       "      <td>0</td>\n",
       "      <td>0</td>\n",
       "      <td>187</td>\n",
       "      <td>0</td>\n",
       "      <td>3.5</td>\n",
       "      <td>3</td>\n",
       "      <td>0.0</td>\n",
       "      <td>1</td>\n",
       "      <td>0</td>\n",
       "    </tr>\n",
       "    <tr>\n",
       "      <th>5</th>\n",
       "      <td>41</td>\n",
       "      <td>0</td>\n",
       "      <td>2</td>\n",
       "      <td>130</td>\n",
       "      <td>204</td>\n",
       "      <td>0</td>\n",
       "      <td>2</td>\n",
       "      <td>172</td>\n",
       "      <td>0</td>\n",
       "      <td>1.4</td>\n",
       "      <td>1</td>\n",
       "      <td>0.0</td>\n",
       "      <td>1</td>\n",
       "      <td>0</td>\n",
       "    </tr>\n",
       "  </tbody>\n",
       "</table>\n",
       "</div>"
      ],
      "text/plain": [
       "   Age  Sex  ChestPain  RestBP  Chol  Fbs  RestECG  MaxHR  ExAng  Oldpeak  \\\n",
       "1   63    1          3     145   233    1        2    150      0      2.3   \n",
       "2   67    1          0     160   286    0        2    108      1      1.5   \n",
       "3   67    1          0     120   229    0        2    129      1      2.6   \n",
       "4   37    1          1     130   250    0        0    187      0      3.5   \n",
       "5   41    0          2     130   204    0        2    172      0      1.4   \n",
       "\n",
       "   Slope   Ca  Thal  AHD  \n",
       "1      3  0.0     0    0  \n",
       "2      2  3.0     1    1  \n",
       "3      2  2.0     2    1  \n",
       "4      3  0.0     1    0  \n",
       "5      1  0.0     1    0  "
      ]
     },
     "execution_count": 120,
     "metadata": {},
     "output_type": "execute_result"
    }
   ],
   "source": [
    "# Read in the data from csv\n",
    "heart_df = pd.read_csv('Heart.csv',index_col=0)\n",
    "# Clean up the dataframe\n",
    "heart_df = heart_df.dropna()\n",
    "heart_df['ChestPain'] = heart_df['ChestPain'].astype('category').cat.codes\n",
    "heart_df['Thal']=heart_df['Thal'].astype('category').cat.codes\n",
    "heart_df['AHD'] = (heart_df['AHD']=='Yes').astype(int)\n",
    "heart_df.head()"
   ]
  },
  {
   "cell_type": "code",
   "execution_count": 107,
   "metadata": {},
   "outputs": [],
   "source": [
    "X = heart_df.drop(labels='AHD',axis=1)\n",
    "y = heart_df['AHD']\n",
    "\n",
    "# Let's set aside a test set and use the remainder for training and cross-validation\n",
    "X_train,X_test,y_train,y_test = train_test_split(X, y, random_state=0,test_size=0.1)"
   ]
  },
  {
   "cell_type": "markdown",
   "metadata": {},
   "source": [
    "## Baseline model - decision tree\n",
    "Let's first get a baseline using a Decision Tree model"
   ]
  },
  {
   "cell_type": "code",
   "execution_count": 108,
   "metadata": {},
   "outputs": [
    {
     "name": "stdout",
     "output_type": "stream",
     "text": [
      "Test set accuracy is 0.700\n"
     ]
    }
   ],
   "source": [
    "# Train the tree model\n",
    "tree_model = DecisionTreeClassifier()\n",
    "tree_model.fit(X_train,y_train)\n",
    "\n",
    "# Calculate the accuracy on the test set\n",
    "test_preds = tree_model.predict(X_test)\n",
    "test_acc = np.sum(test_preds==y_test)/len(y_test)\n",
    "print('Test set accuracy is {:.3f}'.format(test_acc))"
   ]
  },
  {
   "cell_type": "markdown",
   "metadata": {},
   "source": [
    "## Random Forest\n",
    "Now let's try a Random Forest and see how it performs relative to our single tree model"
   ]
  },
  {
   "cell_type": "code",
   "execution_count": 109,
   "metadata": {},
   "outputs": [
    {
     "data": {
      "text/plain": [
       "{'max_features': 0.1,\n",
       " 'max_samples': 0.5,\n",
       " 'min_samples_leaf': 1,\n",
       " 'n_estimators': 1000}"
      ]
     },
     "execution_count": 109,
     "metadata": {},
     "output_type": "execute_result"
    }
   ],
   "source": [
    "# Grid search to find optimal Random Forest hyperparameters\n",
    "params = {'min_samples_leaf':[1,5,20],'n_estimators':[100,1000],\n",
    "          'max_features':[0.1,0.5,1.],'max_samples':[0.5,None]}\n",
    "\n",
    "model = RandomForestClassifier(random_state=0)\n",
    "grid_search = GridSearchCV(model,params,cv=3)\n",
    "grid_search.fit(X_train,y_train)\n",
    "\n",
    "# Display the best parameters\n",
    "grid_search.best_params_"
   ]
  },
  {
   "cell_type": "code",
   "execution_count": 80,
   "metadata": {},
   "outputs": [
    {
     "name": "stdout",
     "output_type": "stream",
     "text": [
      "Test set accuracy is 0.800\n"
     ]
    }
   ],
   "source": [
    "# Retrain the optimal model on full training set and calculate test set accuracy\n",
    "opt_rf_model = RandomForestClassifier(**grid_search.best_params_,random_state=0)\n",
    "opt_rf_model.fit(X_train,y_train)\n",
    "\n",
    "# Calculate the accuracy on the test set\n",
    "test_preds = opt_rf_model.predict(X_test)\n",
    "test_acc = np.sum(test_preds==y_test)/len(y_test)\n",
    "print('Test set accuracy is {:.3f}'.format(test_acc))"
   ]
  },
  {
   "cell_type": "markdown",
   "metadata": {},
   "source": [
    "## AdaBoost\n",
    "Let's set up a boosting model and see if we can beat our random forest model performance"
   ]
  },
  {
   "cell_type": "code",
   "execution_count": 110,
   "metadata": {},
   "outputs": [
    {
     "name": "stdout",
     "output_type": "stream",
     "text": [
      "Test set accuracy is 0.700\n"
     ]
    }
   ],
   "source": [
    "# Train a boosting model on the dataset\n",
    "boosting_model = AdaBoostClassifier(n_estimators=50,random_state=0)\n",
    "boosting_model.fit(X_train,y_train)\n",
    "\n",
    "# Calculate the accuracy on the test set\n",
    "test_preds = boosting_model.predict(X_test)\n",
    "test_acc = np.sum(test_preds==y_test)/len(y_test)\n",
    "print('Test set accuracy is {:.3f}'.format(test_acc))"
   ]
  },
  {
   "cell_type": "code",
   "execution_count": 111,
   "metadata": {},
   "outputs": [
    {
     "data": {
      "image/png": "[encoded data removed]",
      "text/plain": [
       "<Figure size 432x288 with 1 Axes>"
      ]
     },
     "metadata": {
      "needs_background": "light"
     },
     "output_type": "display_data"
    }
   ],
   "source": [
    "# View the errors of each weak learner\n",
    "plt.plot(boosting_model.estimator_errors_)\n",
    "plt.title('Classification error rate of each learner')\n",
    "plt.xlabel('Boosting iteration')\n",
    "plt.ylabel('Error rate')\n",
    "plt.show()"
   ]
  },
  {
   "cell_type": "code",
   "execution_count": 112,
   "metadata": {},
   "outputs": [
    {
     "name": "stdout",
     "output_type": "stream",
     "text": [
      "Test set accuracy is 0.733\n"
     ]
    }
   ],
   "source": [
    "# Try a boosting model using a logistic regression as the weak learner instead of a decision stump\n",
    "boosting_model = AdaBoostClassifier(base_estimator=LogisticRegression(),\n",
    "                                   n_estimators = 50, random_state=0)\n",
    "boosting_model.fit(X_train,y_train)\n",
    "\n",
    "# Calculate the accuracy on the test set\n",
    "test_preds = boosting_model.predict(X_test)\n",
    "test_acc = np.sum(test_preds==y_test)/len(y_test)\n",
    "print('Test set accuracy is {:.3f}'.format(test_acc))"
   ]
  },
  {
   "cell_type": "markdown",
   "metadata": {},
   "source": [
    "Our main hyperparameter in AdaBoost is the number of weak learners we want to include.  Let's try a range of values and see what number gives us the best performance"
   ]
  },
  {
   "cell_type": "code",
   "execution_count": 113,
   "metadata": {},
   "outputs": [
    {
     "data": {
      "image/png": "[encoded data removed]",
      "text/plain": [
       "<Figure size 432x288 with 1 Axes>"
      ]
     },
     "metadata": {
      "needs_background": "light"
     },
     "output_type": "display_data"
    }
   ],
   "source": [
    "learners_range = range(1,51)\n",
    "scores = []\n",
    "for num in learners_range:\n",
    "    boosting_model = AdaBoostClassifier(n_estimators=num,random_state=0)\n",
    "    score = cross_val_score(boosting_model,X_train,y_train,scoring='accuracy',cv=3)\n",
    "    scores.append(np.mean(score))\n",
    "    \n",
    "idx = np.argmax(scores)\n",
    "opt_learners = learners_range[idx]\n",
    "\n",
    "plt.plot(scores)\n",
    "plt.xlabel('Num_learners')\n",
    "plt.ylabel('Cross-validation accuracy')\n",
    "plt.title('Optimal number of learners is {}'.format(opt_learners))\n",
    "plt.show()"
   ]
  },
  {
   "cell_type": "code",
   "execution_count": 114,
   "metadata": {},
   "outputs": [
    {
     "name": "stdout",
     "output_type": "stream",
     "text": [
      "Accuracy on the test set is 0.833\n"
     ]
    }
   ],
   "source": [
    "# Retrain optimal boosting model and get test set accuracy\n",
    "opt_boosting_model = AdaBoostClassifier(n_estimators=opt_learners,random_state=0)\n",
    "opt_boosting_model.fit(X_train,y_train)\n",
    "\n",
    "test_preds = opt_boosting_model.predict(X_test)\n",
    "test_acc = np.sum(test_preds==y_test)/len(y_test)\n",
    "print(\"Accuracy on the test set is {:.3f}\".format(test_acc))"
   ]
  },
  {
   "cell_type": "markdown",
   "metadata": {},
   "source": [
    "## Gradient boosting\n",
    "An alternative boosting algorithm to AdaBoost is Gradient Boosting.  In Gradient Boosting, we train multiple decision tree learners on the residuals of the previous learners and combine the outputs of all learners together (each multiplied by the learning rate) to make the predictions."
   ]
  },
  {
   "cell_type": "code",
   "execution_count": 102,
   "metadata": {},
   "outputs": [
    {
     "data": {
      "text/plain": [
       "{'max_features': 0.1, 'min_samples_leaf': 10, 'n_estimators': 20}"
      ]
     },
     "execution_count": 102,
     "metadata": {},
     "output_type": "execute_result"
    }
   ],
   "source": [
    "# Grid search to find optimal hyperparameters\n",
    "params = {'min_samples_leaf':[1,5,10],'n_estimators':[5,10,20,50],\n",
    "          'max_features':[0.1,0.5,1.]}\n",
    "\n",
    "gb_model = GradientBoostingClassifier(random_state=0)\n",
    "grid_search = GridSearchCV(gb_model,params,cv=3)\n",
    "grid_search.fit(X_train,y_train)\n",
    "\n",
    "# Display the best parameters\n",
    "grid_search.best_params_\n"
   ]
  },
  {
   "cell_type": "code",
   "execution_count": 103,
   "metadata": {},
   "outputs": [
    {
     "name": "stdout",
     "output_type": "stream",
     "text": [
      "Test set accuracy is 0.800\n"
     ]
    }
   ],
   "source": [
    "# Retrain the optimal model on full training set and calculate test set accuracy\n",
    "opt_gb_model = GradientBoostingClassifier(**grid_search.best_params_,random_state=0)\n",
    "opt_gb_model.fit(X_train,y_train)\n",
    "\n",
    "# Calculate the accuracy on the test set\n",
    "test_preds = opt_gb_model.predict(X_test)\n",
    "test_acc = np.sum(test_preds==y_test)/len(y_test)\n",
    "print('Test set accuracy is {:.3f}'.format(test_acc))"
   ]
  },
  {
   "cell_type": "code",
   "execution_count": 105,
   "metadata": {},
   "outputs": [
    {
     "data": {
      "image/png": "[encoded data removed]",
      "text/plain": [
       "<Figure size 432x288 with 1 Axes>"
      ]
     },
     "metadata": {
      "needs_background": "light"
     },
     "output_type": "display_data"
    }
   ],
   "source": [
    "# Let's look at how accuracy changes as we increase number of learners\n",
    "learners_range = range(1,40)\n",
    "scores = []\n",
    "for num in learners_range:\n",
    "    boosting_model = GradientBoostingClassifier(n_estimators=num,random_state=0)\n",
    "    score = cross_val_score(boosting_model,X_train,y_train,scoring='accuracy',cv=3)\n",
    "    scores.append(np.mean(score))\n",
    "    \n",
    "idx = np.argmax(scores)\n",
    "opt_learners = learners_range[idx]\n",
    "\n",
    "plt.plot(scores)\n",
    "plt.xlabel('Num_learners')\n",
    "plt.ylabel('Cross-validation accuracy')\n",
    "#plt.title('Optimal number of learners is {}'.format(opt_learners))\n",
    "plt.show()"
   ]
  },
  {
   "cell_type": "markdown",
   "metadata": {},
   "source": [
    "## Ensemble model approaches\n",
    "Now let's combine a few classifiers together into an ensemble."
   ]
  },
  {
   "cell_type": "code",
   "execution_count": 115,
   "metadata": {},
   "outputs": [
    {
     "name": "stdout",
     "output_type": "stream",
     "text": [
      "Accuracy on the test set is 0.833\n"
     ]
    }
   ],
   "source": [
    "# Use 'hard' voting: use majority vote across discrete predictions of each model\n",
    "ensemble_model = VotingClassifier(estimators=[('rf',opt_rf_model),\n",
    "                                             ('ada',opt_boosting_model),\n",
    "                                             ('logreg',LogisticRegression())],\n",
    "                                  voting='hard')\n",
    "\n",
    "ensemble_model.fit(X_train,y_train)\n",
    "\n",
    "test_preds = ensemble_model.predict(X_test)\n",
    "test_acc = np.sum(test_preds==y_test)/len(y_test)\n",
    "print(\"Accuracy on the test set is {:.3f}\".format(test_acc))"
   ]
  },
  {
   "cell_type": "code",
   "execution_count": 116,
   "metadata": {},
   "outputs": [
    {
     "name": "stdout",
     "output_type": "stream",
     "text": [
      "Accuracy on the test set is 0.800\n"
     ]
    }
   ],
   "source": [
    "# Use 'soft' voting: use argmax across sum of probabilistic predictions from each model\n",
    "ensemble_model = VotingClassifier(estimators=[('rf',opt_rf_model),\n",
    "                                             ('ada',opt_boosting_model),\n",
    "                                             ('logreg',LogisticRegression())],\n",
    "                                 voting='soft')\n",
    "\n",
    "ensemble_model.fit(X_train,y_train)\n",
    "\n",
    "test_preds = ensemble_model.predict(X_test)\n",
    "test_acc = np.sum(test_preds==y_test)/len(y_test)\n",
    "print(\"Accuracy on the test set is {:.3f}\".format(test_acc))"
   ]
  },
  {
   "cell_type": "code",
   "execution_count": 50,
   "metadata": {},
   "outputs": [
    {
     "name": "stdout",
     "output_type": "stream",
     "text": [
      "Accuracy on the test set is 0.833\n"
     ]
    }
   ],
   "source": [
    "# Use 'soft' weighted voting\n",
    "ensemble_model = VotingClassifier(estimators=[('rf',opt_rf_model),\n",
    "                                             ('ada',opt_boosting_model),\n",
    "                                             ('logreg',LogisticRegression())],\n",
    "                                 voting='soft',\n",
    "                                 weights = [1,2,1])\n",
    "\n",
    "ensemble_model.fit(X_train,y_train)\n",
    "\n",
    "test_preds = ensemble_model.predict(X_test)\n",
    "test_acc = np.sum(test_preds==y_test)/len(y_test)\n",
    "print(\"Accuracy on the test set is {:.3f}\".format(test_acc))"
   ]
  },
  {
   "cell_type": "code",
   "execution_count": 117,
   "metadata": {},
   "outputs": [
    {
     "name": "stdout",
     "output_type": "stream",
     "text": [
      "Accuracy on the test set is 0.800\n"
     ]
    }
   ],
   "source": [
    "# Use StackingClassifier - fit final estimator to combine 3 members optimally\n",
    "stacking_model = StackingClassifier(estimators=[('rf',opt_rf_model),\n",
    "                                             ('ada',opt_boosting_model),\n",
    "                                             ('logreg',LogisticRegression())],\n",
    "                                 final_estimator=LogisticRegression(),\n",
    "                                 cv=3)\n",
    "\n",
    "stacking_model.fit(X_train,y_train)\n",
    "\n",
    "test_preds = ensemble_model.predict(X_test)\n",
    "test_acc = np.sum(test_preds==y_test)/len(y_test)\n",
    "print(\"Accuracy on the test set is {:.3f}\".format(test_acc))"
   ]
  }
 ],
 "metadata": {
  "kernelspec": {
   "display_name": "Python 3",
   "language": "python",
   "name": "python3"
  },
  "language_info": {
   "codemirror_mode": {
    "name": "ipython",
    "version": 3
   },
   "file_extension": ".py",
   "mimetype": "text/x-python",
   "name": "python",
   "nbconvert_exporter": "python",
   "pygments_lexer": "ipython3",
   "version": "3.7.1"
  },
  "latex_envs": {
   "LaTeX_envs_menu_present": true,
   "autoclose": false,
   "autocomplete": true,
   "bibliofile": "biblio.bib",
   "cite_by": "apalike",
   "current_citInitial": 1,
   "eqLabelWithNumbers": true,
   "eqNumInitial": 1,
   "hotkeys": {
    "equation": "Ctrl-E",
    "itemize": "Ctrl-I"
   },
   "labels_anchors": false,
   "latex_user_defs": false,
   "report_style_numbering": false,
   "user_envs_cfg": false
  },
  "toc": {
   "base_numbering": 1,
   "nav_menu": {},
   "number_sections": true,
   "sideBar": true,
   "skip_h1_title": false,
   "title_cell": "Table of Contents",
   "title_sidebar": "Contents",
   "toc_cell": false,
   "toc_position": {},
   "toc_section_display": true,
   "toc_window_display": false
  }
 },
 "nbformat": 4,
 "nbformat_minor": 4
}

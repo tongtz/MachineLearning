{
 "cells": [
  {
   "cell_type": "markdown",
   "metadata": {},
   "source": [
    "<a href='https://ai.meng.duke.edu'> = <img align=\"left\" style=\"padding-top:10px;\" src=https://storage.googleapis.com/aipi_datasets/Duke-AIPI-Logo.png>"
   ]
  },
  {
   "cell_type": "markdown",
   "metadata": {},
   "source": [
    "# Deep Learning in PyTorch"
   ]
  },
  {
   "cell_type": "code",
   "execution_count": 65,
   "metadata": {},
   "outputs": [],
   "source": [
    "import numpy as np\n",
    "import pandas as pd\n",
    "import torch\n",
    "from torchvision import datasets, transforms\n",
    "import torchvision\n",
    "from torch.utils.data import DataLoader, TensorDataset\n",
    "import torch.nn as nn\n",
    "import torch.nn.functional as F\n",
    "import torch.optim as optim\n",
    "\n",
    "from sklearn.model_selection import train_test_split\n",
    "from sklearn.preprocessing import StandardScaler\n",
    "import matplotlib.pyplot as plt"
   ]
  },
  {
   "cell_type": "markdown",
   "metadata": {},
   "source": [
    "# Binary classification\n",
    "For binary classification, we can use a sigmoid activation function on the output layer to get our predictions in the range (0,1) and then use PyTorch's `BCELoss()` loss function (equivalent to Negative Log Likelihood)"
   ]
  },
  {
   "cell_type": "code",
   "execution_count": 66,
   "metadata": {},
   "outputs": [],
   "source": [
    "from sklearn.datasets import load_breast_cancer\n",
    "data=load_breast_cancer(as_frame=True)\n",
    "X,y=data.data,data.target\n",
    "# Since the default in the file is 0=malignant 1=benign we want to reverse these\n",
    "y=(y==0).astype(int)\n",
    "X,y= np.array(X),np.array(y)\n",
    "\n",
    "# Let's set aside a test set and use the remainder for training and cross-validation\n",
    "X_train,X_test,y_train,y_test = train_test_split(X, y, random_state=0,test_size=0.2)\n",
    "\n",
    "# Let's scale our data to help the algorithm converge faster\n",
    "scaler = StandardScaler()\n",
    "X_train_scaled = scaler.fit_transform(X_train)\n",
    "X_test_scaled = scaler.transform(X_test)"
   ]
  },
  {
   "cell_type": "markdown",
   "metadata": {},
   "source": [
    "### Step 1: Set up dataloaders for our data\n",
    "The first step is to set up the dataloaders to feed our data into the model.  We first create a `TensorDataset` for our training data and our test data.  Then we create `DataLoaders` for the training and test data which allow us to iteratively feed the data into our model in batches (called \"mini-batches\") of a size that we can specify."
   ]
  },
  {
   "cell_type": "code",
   "execution_count": 67,
   "metadata": {},
   "outputs": [],
   "source": [
    "# Set random seeds\n",
    "torch.manual_seed(0)\n",
    "if torch.cuda.is_available():\n",
    "    torch.cuda.manual_seed(0)\n",
    "\n",
    "# Convert training and test data to TensorDatasets\n",
    "trainset = TensorDataset(torch.from_numpy(X_train_scaled).float(), \n",
    "                         torch.from_numpy(y_train).float())\n",
    "testset = TensorDataset(torch.from_numpy(X_test_scaled).float(), \n",
    "                        torch.from_numpy(y_test).float())\n",
    "\n",
    "# Create Dataloaders for our training and test data to allow us to iterate over minibatches \n",
    "trainloader = torch.utils.data.DataLoader(trainset, batch_size=32, shuffle=True)\n",
    "testloader = torch.utils.data.DataLoader(testset, batch_size=32, shuffle=False)"
   ]
  },
  {
   "cell_type": "markdown",
   "metadata": {},
   "source": [
    "### Step 2: Define our neural network architecture\n",
    "Next, we will define a model, feed-forward neural network for this chapter..\n",
    "For simplicity, we will use 3-layer, 2 hidden layers and 1 hidden-to-output layer, feed-forward net. Each layer is a fully-connected layer where the module `torch.nn.Linear` is the implementation of it. Also, we will apply ReLU activation for each layer.\n",
    "\n",
    "Basically, we are required to define a member method of `forward(self, x)` when we define a class for any customized network. It represents a forward pass of a computational graph and a backward pass (back-propagation) with automatic differentiation will be performed later based on this forward definition."
   ]
  },
  {
   "cell_type": "code",
   "execution_count": 68,
   "metadata": {},
   "outputs": [],
   "source": [
    "class FeedForwardNet(nn.Module):\n",
    "    def __init__(self, n_input, n_hidden1, n_hidden2, n_output):\n",
    "        super().__init__()\n",
    "        self.hidden1 = nn.Linear(n_input, n_hidden1)\n",
    "        self.hidden2 = nn.Linear(n_hidden1, n_hidden2)\n",
    "        self.out = nn.Linear(n_hidden2, n_output)\n",
    "\n",
    "    def forward(self, x):\n",
    "        x = F.relu(self.hidden1(x))\n",
    "        x = F.relu(self.hidden2(x))\n",
    "        x = torch.sigmoid(self.out(x))\n",
    "        return x"
   ]
  },
  {
   "cell_type": "code",
   "execution_count": 69,
   "metadata": {},
   "outputs": [],
   "source": [
    "# Instantiate our neural network\n",
    "net = FeedForwardNet(n_input=X_train_scaled.shape[1], n_hidden1=50, n_hidden2=20, n_output=1)"
   ]
  },
  {
   "cell_type": "markdown",
   "metadata": {},
   "source": [
    "Alternatively, PyTorch gives us an easy way to define a model layer by layer using `nn.Sequential()` rather than creating a model class as we did above.  Here we define the same model as above much more simply:"
   ]
  },
  {
   "cell_type": "code",
   "execution_count": 70,
   "metadata": {},
   "outputs": [],
   "source": [
    "# Build a feed-forward network\n",
    "n_input = X_train_scaled.shape[1]\n",
    "n_hidden1 = 50\n",
    "n_hidden2 = 20\n",
    "n_output = 1\n",
    "\n",
    "net = nn.Sequential(nn.Linear(n_input, n_hidden1),  # hidden layer 1\n",
    "                      nn.ReLU(), # hidden layer 1 activation\n",
    "                      nn.Linear(n_hidden1, n_hidden2), # hidden layer 2\n",
    "                      nn.ReLU(), # hidden layer 2 activation\n",
    "                      nn.Linear(n_hidden2, n_output), # output layer\n",
    "                      nn.Sigmoid()) # use sigmoid as output activation"
   ]
  },
  {
   "cell_type": "markdown",
   "metadata": {},
   "source": [
    "### Step 3: Define a cost / loss function and optimizer\n",
    "We will use Binary Cross Entropy as our loss function, which is usually named `criterion` in PyTorch.  For our optimizer we will use stochastic gradient descent (SGD).\n",
    "\n",
    "When we create an optimizer in PyTorch, we need to pass in the parameters that we want to optimize (train), which are our weights. We can retrieve all trainable parameters of the model by calling `model.parameters()`."
   ]
  },
  {
   "cell_type": "code",
   "execution_count": 71,
   "metadata": {},
   "outputs": [],
   "source": [
    "import torch.optim as optim\n",
    "\n",
    "# Define the cost / loss function\n",
    "cost_fn = nn.BCELoss()\n",
    "\n",
    "# Define the method of updating the weights each iteration (e.g. gradient descent)\n",
    "optimizer = optim.SGD(net.parameters(), lr=0.01)\n",
    "\n",
    "# Set device\n",
    "device = torch.device(\"cuda\" if torch.cuda.is_available() else \"cpu\")"
   ]
  },
  {
   "cell_type": "markdown",
   "metadata": {},
   "source": [
    "### Step 4: Train the model\n",
    "To train our model, we perform the following four steps in a loop, using one input mini-batch at a time:  \n",
    "    1) Make a forward pass through the network to calculate the network output  \n",
    "    2) Use the network output to calculate the cost/loss  \n",
    "    3) Calculate the gradient of the cost/loss with respect to the weights by performing a backward pass through the network with loss.backward()  \n",
    "    4) Update the weights by taking a step with the optimizer"
   ]
  },
  {
   "cell_type": "code",
   "execution_count": 72,
   "metadata": {},
   "outputs": [
    {
     "data": {
      "image/png": "[encoded data removed]",
      "text/plain": [
       "<Figure size 432x288 with 1 Axes>"
      ]
     },
     "metadata": {
      "needs_background": "light"
     },
     "output_type": "display_data"
    }
   ],
   "source": [
    "num_iter = 200\n",
    "cost = []\n",
    "\n",
    "net = net.to(device)\n",
    "net.train() # Set the model to training mode\n",
    "\n",
    "for epoch in range(num_iter):\n",
    "\n",
    "    running_loss = 0.0\n",
    "    \n",
    "    for i, data in enumerate(trainloader):\n",
    "        \n",
    "        # Get the inputs X and labels y for the minibatch\n",
    "        inputs, labels = data[0].to(device), data[1].to(device)\n",
    "\n",
    "        # Zero the gradients of the weights each iteration\n",
    "        optimizer.zero_grad()\n",
    "\n",
    "        # Calculate the predictions and the cost/loss\n",
    "        outputs = net(inputs).view(-1) # Convert outputs to 1D array instead of 2D to match labels\n",
    "        loss = cost_fn(outputs, labels)\n",
    "        \n",
    "        # Use autograd to calculate the gradient of the cost with respect to each weight\n",
    "        loss.backward()\n",
    "        \n",
    "        # Use the optimizer to do the weights update\n",
    "        optimizer.step()\n",
    "\n",
    "        # Store the cost/loss\n",
    "        running_loss += loss.item()\n",
    "        \n",
    "    cost.append(running_loss)\n",
    "        \n",
    "plt.plot(cost)\n",
    "plt.xlabel('Epoch')\n",
    "plt.ylabel('Cost/loss')\n",
    "plt.show()"
   ]
  },
  {
   "cell_type": "markdown",
   "metadata": {},
   "source": [
    "### Step 5: Test the model on the test set"
   ]
  },
  {
   "cell_type": "code",
   "execution_count": 73,
   "metadata": {},
   "outputs": [
    {
     "name": "stdout",
     "output_type": "stream",
     "text": [
      "Test set accuracy is 0.965\n"
     ]
    }
   ],
   "source": [
    "# Set the model to evaluation mode\n",
    "net.eval()\n",
    "with torch.no_grad():\n",
    "    # Set up lists to store true and predicted values\n",
    "    y_true = y_test.tolist\n",
    "    test_preds = []\n",
    "\n",
    "    # Calculate the predictions on the test set and add to list\n",
    "    for data in testloader:\n",
    "        inputs, labels = data[0].to(device), data[1].to(device)\n",
    "        outputs = net.forward(inputs)\n",
    "        test_preds.extend(outputs.numpy().flatten().tolist())\n",
    "\n",
    "    # Convert the predictions to discrete and calculate the accuracy\n",
    "    test_preds = np.round(test_preds)\n",
    "    test_acc = np.sum(test_preds==y_test)/len(y_test)\n",
    "    print('Test set accuracy is {:.3f}'.format(test_acc))"
   ]
  },
  {
   "cell_type": "markdown",
   "metadata": {},
   "source": [
    "# Multiclass classification\n",
    "For a multi-class problem we use a softmax as the activation function to convert the outputs to probabilities, rather than sigmoid as we did in binary classification.  We also use cross-entropy (`nn.CrossEntropyLoss()`) as the loss function rather than negative log likelihood (`BCELoss()`) as we did previously."
   ]
  },
  {
   "cell_type": "code",
   "execution_count": 80,
   "metadata": {},
   "outputs": [
    {
     "data": {
      "text/html": [
       "<div>\n",
       "<style scoped>\n",
       "    .dataframe tbody tr th:only-of-type {\n",
       "        vertical-align: middle;\n",
       "    }\n",
       "\n",
       "    .dataframe tbody tr th {\n",
       "        vertical-align: top;\n",
       "    }\n",
       "\n",
       "    .dataframe thead th {\n",
       "        text-align: right;\n",
       "    }\n",
       "</style>\n",
       "<table border=\"1\" class=\"dataframe\">\n",
       "  <thead>\n",
       "    <tr style=\"text-align: right;\">\n",
       "      <th></th>\n",
       "      <th>sepal_length</th>\n",
       "      <th>sepal_width</th>\n",
       "      <th>petal_length</th>\n",
       "      <th>petal_width</th>\n",
       "      <th>species</th>\n",
       "    </tr>\n",
       "  </thead>\n",
       "  <tbody>\n",
       "    <tr>\n",
       "      <th>0</th>\n",
       "      <td>5.1</td>\n",
       "      <td>3.5</td>\n",
       "      <td>1.4</td>\n",
       "      <td>0.2</td>\n",
       "      <td>setosa</td>\n",
       "    </tr>\n",
       "    <tr>\n",
       "      <th>1</th>\n",
       "      <td>4.9</td>\n",
       "      <td>3.0</td>\n",
       "      <td>1.4</td>\n",
       "      <td>0.2</td>\n",
       "      <td>setosa</td>\n",
       "    </tr>\n",
       "    <tr>\n",
       "      <th>2</th>\n",
       "      <td>4.7</td>\n",
       "      <td>3.2</td>\n",
       "      <td>1.3</td>\n",
       "      <td>0.2</td>\n",
       "      <td>setosa</td>\n",
       "    </tr>\n",
       "    <tr>\n",
       "      <th>3</th>\n",
       "      <td>4.6</td>\n",
       "      <td>3.1</td>\n",
       "      <td>1.5</td>\n",
       "      <td>0.2</td>\n",
       "      <td>setosa</td>\n",
       "    </tr>\n",
       "    <tr>\n",
       "      <th>4</th>\n",
       "      <td>5.0</td>\n",
       "      <td>3.6</td>\n",
       "      <td>1.4</td>\n",
       "      <td>0.2</td>\n",
       "      <td>setosa</td>\n",
       "    </tr>\n",
       "  </tbody>\n",
       "</table>\n",
       "</div>"
      ],
      "text/plain": [
       "   sepal_length  sepal_width  petal_length  petal_width species\n",
       "0           5.1          3.5           1.4          0.2  setosa\n",
       "1           4.9          3.0           1.4          0.2  setosa\n",
       "2           4.7          3.2           1.3          0.2  setosa\n",
       "3           4.6          3.1           1.5          0.2  setosa\n",
       "4           5.0          3.6           1.4          0.2  setosa"
      ]
     },
     "execution_count": 80,
     "metadata": {},
     "output_type": "execute_result"
    }
   ],
   "source": [
    "import seaborn as sns\n",
    "# Load the iris dataset using a helper function in Seaborn\n",
    "iris = sns.load_dataset('iris')\n",
    "iris.head()"
   ]
  },
  {
   "cell_type": "code",
   "execution_count": 81,
   "metadata": {},
   "outputs": [],
   "source": [
    "# Separate into X and y\n",
    "# Convert string species values in y to numerical codes for modeling\n",
    "X = iris.drop('species',axis=1)\n",
    "y = iris['species'].astype('category').cat.codes"
   ]
  },
  {
   "cell_type": "code",
   "execution_count": 82,
   "metadata": {},
   "outputs": [
    {
     "name": "stdout",
     "output_type": "stream",
     "text": [
      "Shape of X_train, y_train: (120, 4) (120,)\n",
      "Shape of X_test, y_test: (30, 4) (30,)\n"
     ]
    }
   ],
   "source": [
    "# Split data into training and test sets\n",
    "X_train,X_test,y_train,y_test = train_test_split(X,y,test_size=0.2,random_state=0)\n",
    "print(\"Shape of X_train, y_train:\",X_train.shape,y_train.shape)\n",
    "print(\"Shape of X_test, y_test:\",X_test.shape,y_test.shape)\n",
    "\n",
    "# Let's scale our data to help the algorithm converge faster\n",
    "scaler = StandardScaler()\n",
    "X_train_scaled = scaler.fit_transform(X_train)\n",
    "X_test_scaled = scaler.transform(X_test)\n",
    "\n",
    "# Convert y_train and y_test to arrays so all inputs are in NumPy\n",
    "y_train = np.array(y_train)\n",
    "y_test = np.array(y_test)"
   ]
  },
  {
   "cell_type": "code",
   "execution_count": 83,
   "metadata": {},
   "outputs": [],
   "source": [
    "# Convert training and test data to TensorDatasets\n",
    "# When we do multiclass classification, PyTorch expects that labels are type LongTensor and inputs are FloatTensor\n",
    "trainset = TensorDataset(torch.from_numpy(X_train_scaled).float(), \n",
    "                         torch.from_numpy(y_train).long())\n",
    "testset = TensorDataset(torch.from_numpy(X_test_scaled).float(), \n",
    "                        torch.from_numpy(y_test).long())\n",
    "\n",
    "batchsize = 32\n",
    "# Create Dataloaders for our training and test data to allow us to iterate over minibatches \n",
    "trainloader = torch.utils.data.DataLoader(trainset, batch_size=batchsize, shuffle=False)\n",
    "testloader = torch.utils.data.DataLoader(testset, batch_size=batchsize, shuffle=False)"
   ]
  },
  {
   "cell_type": "code",
   "execution_count": 84,
   "metadata": {},
   "outputs": [],
   "source": [
    "class Multiclass_Net(nn.Module):\n",
    "    def __init__(self, n_input, n_hidden1, n_hidden2, n_hidden3, n_output):\n",
    "        super().__init__()\n",
    "        self.hidden1 = nn.Linear(n_input, n_hidden1)\n",
    "        self.hidden2 = nn.Linear(n_hidden1, n_hidden2)\n",
    "        self.hidden3 = nn.Linear(n_hidden2, n_hidden3)\n",
    "        self.out = nn.Linear(n_hidden3, n_output)\n",
    "\n",
    "    def forward(self, x):\n",
    "        x = F.relu(self.hidden1(x))\n",
    "        x = F.relu(self.hidden2(x))\n",
    "        x = F.relu(self.hidden3(x))\n",
    "        x = self.out(x)\n",
    "        return x\n",
    "    \n",
    "# Instantiate our neural network\n",
    "# n_input=4 since we have 4 features\n",
    "# n_output=3 since we have 3 classes\n",
    "net = Multiclass_Net(n_input=4, n_hidden1=100, n_hidden2=50, n_hidden3=10, n_output=3)"
   ]
  },
  {
   "cell_type": "code",
   "execution_count": 85,
   "metadata": {},
   "outputs": [],
   "source": [
    "def train_model(model,criterion,optimizer,trainloader,num_iter,device):\n",
    "    \n",
    "    model = model.to(device)\n",
    "    model.train() # Set the model to training mode\n",
    "    \n",
    "    cost = []\n",
    "    \n",
    "    for epoch in range(num_iter):\n",
    "\n",
    "        running_loss = 0.0\n",
    "\n",
    "        for i, data in enumerate(trainloader):\n",
    "\n",
    "            # Get the inputs X and labels y for the minibatch\n",
    "            inputs, labels = data[0].to(device), data[1].to(device)\n",
    "\n",
    "            # Zero the gradients of the weights each iteration\n",
    "            optimizer.zero_grad()\n",
    "\n",
    "            # Calculate the predictions and the cost/loss\n",
    "            outputs = model(inputs)\n",
    "            loss = criterion(outputs, labels)\n",
    "\n",
    "            # Use autograd to calculate the gradient of the cost with respect to each weight\n",
    "            loss.backward()\n",
    "\n",
    "            # Use the optimizer to do the weights update\n",
    "            optimizer.step()\n",
    "\n",
    "            # Add the loss to running loss for the epoch\n",
    "            running_loss += loss.item()\n",
    "\n",
    "        cost.append(running_loss)\n",
    "    return cost"
   ]
  },
  {
   "cell_type": "code",
   "execution_count": 86,
   "metadata": {},
   "outputs": [
    {
     "data": {
      "image/png": "[encoded data removed]",
      "text/plain": [
       "<Figure size 432x288 with 1 Axes>"
      ]
     },
     "metadata": {
      "needs_background": "light"
     },
     "output_type": "display_data"
    }
   ],
   "source": [
    "# Define the cost / loss function\n",
    "criterion = nn.CrossEntropyLoss()\n",
    "# Define the method of updating the weights each iteration\n",
    "optimizer = optim.SGD(net.parameters(), lr=0.01)\n",
    "# Number of iterations (epochs) to train\n",
    "n_iter = 500\n",
    "# Set device\n",
    "device = torch.device(\"cuda\" if torch.cuda.is_available() else \"cpu\")\n",
    "\n",
    "# Train model\n",
    "cost_path = train_model(net,criterion,optimizer,trainloader,n_iter,device)\n",
    "\n",
    "# Plot the cost over training\n",
    "plt.plot(cost_path)\n",
    "plt.xlabel('Epoch')\n",
    "plt.ylabel('Loss')\n",
    "plt.show()"
   ]
  },
  {
   "cell_type": "code",
   "execution_count": 87,
   "metadata": {},
   "outputs": [],
   "source": [
    "def test_model(model,test_loader,device):\n",
    "    # Turn autograd off\n",
    "    with torch.no_grad():\n",
    "\n",
    "        # Set the model to evaluation mode\n",
    "        model.eval()\n",
    "\n",
    "        # Set up lists to store true and predicted values\n",
    "        y_true = []\n",
    "        test_preds = []\n",
    "\n",
    "        # Calculate the predictions on the test set and add to list\n",
    "        for data in testloader:\n",
    "            inputs, labels = data[0].to(device), data[1].to(device)\n",
    "            # Feed inputs through model to get raw scores\n",
    "            logits = net.forward(inputs)\n",
    "            # Convert raw scores to probabilities (not necessary since we just care about discrete probs in this case)\n",
    "            probs = F.softmax(logits,dim=1)\n",
    "            # Get discrete predictions using argmax\n",
    "            preds = np.argmax(probs.numpy(),axis=1)\n",
    "            test_preds.extend(preds)\n",
    "            y_true.extend(labels)\n",
    "\n",
    "        # Calculate the accuracy\n",
    "        test_acc = np.sum(test_preds==y_test)/len(y_test)\n",
    "    \n",
    "    return test_acc"
   ]
  },
  {
   "cell_type": "code",
   "execution_count": 88,
   "metadata": {},
   "outputs": [
    {
     "name": "stdout",
     "output_type": "stream",
     "text": [
      "Test set accuracy is 1.000\n"
     ]
    }
   ],
   "source": [
    "# Test model\n",
    "device = torch.device(\"cuda\" if torch.cuda.is_available() else \"cpu\")\n",
    "acc = test_model(net,testloader,device)\n",
    "print('Test set accuracy is {:.3f}'.format(acc))"
   ]
  },
  {
   "cell_type": "markdown",
   "metadata": {},
   "source": [
    "# Convolutional neural network"
   ]
  },
  {
   "cell_type": "code",
   "execution_count": 89,
   "metadata": {},
   "outputs": [
    {
     "name": "stdout",
     "output_type": "stream",
     "text": [
      "Training data images:  60000\n",
      "Test data images:  10000\n"
     ]
    }
   ],
   "source": [
    "# Load training and test data\n",
    "from torchvision.datasets import FashionMNIST\n",
    "\n",
    "# Set up transforms - ToTensor only in this case\n",
    "data_transform = transforms.Compose([transforms.ToTensor()]) # Converts pixel values to tensor in range [0.,1.]\n",
    "\n",
    "# Set up datasets\n",
    "train_data = FashionMNIST(root='./data', train=True,\n",
    "                                   download=True, transform=data_transform)\n",
    "\n",
    "test_data = FashionMNIST(root='./data', train=False,\n",
    "                                  download=True, transform=data_transform)\n",
    "\n",
    "print('Training data images: ', len(train_data))\n",
    "print('Test data images: ', len(test_data))\n",
    "\n",
    "# Specify the image classes\n",
    "classes = ['T-shirt/top', 'Trouser', 'Pullover', 'Dress', 'Coat', \n",
    "           'Sandal', 'Shirt', 'Sneaker', 'Bag', 'Ankle boot']\n",
    "\n",
    "# Set random seeds for reproducibility\n",
    "torch.manual_seed(0)\n",
    "if torch.cuda.is_available():\n",
    "    torch.cuda.manual_seed(0)"
   ]
  },
  {
   "cell_type": "markdown",
   "metadata": {},
   "source": [
    "### Step 1: Set up dataloaders for our data"
   ]
  },
  {
   "cell_type": "code",
   "execution_count": 90,
   "metadata": {},
   "outputs": [],
   "source": [
    "batch_size = 16\n",
    "\n",
    "train_loader = DataLoader(train_data, batch_size=batch_size, shuffle=True)\n",
    "test_loader = DataLoader(test_data, batch_size=batch_size, shuffle=False)"
   ]
  },
  {
   "cell_type": "code",
   "execution_count": 91,
   "metadata": {},
   "outputs": [
    {
     "name": "stdout",
     "output_type": "stream",
     "text": [
      "torch.Size([16, 1, 28, 28])\n"
     ]
    },
    {
     "data": {
      "image/png": "[encoded data removed]",
      "text/plain": [
       "<Figure size 1080x360 with 16 Axes>"
      ]
     },
     "metadata": {},
     "output_type": "display_data"
    }
   ],
   "source": [
    "# Get next batch of training images\n",
    "images, labels = iter(train_loader).next()\n",
    "print(images.shape)\n",
    "images = images.numpy()\n",
    "\n",
    "# plot the images in the batch, along with the corresponding labels\n",
    "fig = plt.figure(figsize=(15, 5))\n",
    "for idx in range(batch_size):\n",
    "    ax = fig.add_subplot(2, batch_size//2, idx+1, xticks=[], yticks=[])\n",
    "    ax.imshow(np.squeeze(images[idx]), cmap='gray')\n",
    "    ax.set_title(classes[labels[idx]])"
   ]
  },
  {
   "cell_type": "markdown",
   "metadata": {},
   "source": [
    "As we see above, the inputs in a PyTorch DataLoader are of shape [N,C,H,W) where:  \n",
    "- N = batch size  \n",
    "- C = number of channels (1 for grayscale, 3 for RGB color)  \n",
    "- H = image height  \n",
    "- W = image width"
   ]
  },
  {
   "cell_type": "markdown",
   "metadata": {},
   "source": [
    "### Step 2: Define our neural network architecture\n",
    "\n",
    "To define a neural network in PyTorch, you define the layers of a model in the function `__init__` and define the feedforward behavior of the network in the function `forward`, which takes in an input image tensor, `x`. During training, PyTorch will perform backpropagation by keeping track of the network's feedforward behavior and using autograd to calculate the update to the weights in the network.\n",
    "\n",
    "A conv/pool layer may be defined like this (in `__init__`):\n",
    "```\n",
    "# Convolutional layer with 1 input channel (grayscale), 32 output channels/feature maps and a 3x3 square convolution kernel\n",
    "self.conv1 = nn.Conv2d(1, 32, 3)\n",
    "\n",
    "# maxpool that uses a square window of kernel_size=2, stride=2\n",
    "self.pool = nn.MaxPool2d(2, 2)      \n",
    "```\n",
    "\n",
    "We then define the `forward` function which governs the flow of input data through the neural network.  In this case we will apply a ReLu activation function after the convolutional layers followed by a MaxPooling layer:\n",
    "```\n",
    "x = self.pool(F.relu(self.conv1(x)))\n",
    "```\n",
    "\n",
    "Any layers with trainable weights, such as convolutional layers, must be contained in the `__init__` function. Any layers or functions that always behave in the same way, such as a pre-defined activation function, may appear in the `forward` function without being defined in the `__init__` function. In practice, convolutional and pooling layers are defined in `__init__` and activations are usually defined in `forward`.\n",
    "\n",
    "For convolutional layers, the output feature maps will have the specified depth and the dimensions of each output feature map (width/height) can be computed as the input image width/height (W) minus the filter size (F) divided by the stride (S) + 1. The equation looks like this: `output_dim = (W-F)/S + 1`, for a padding size of 0. A derivation of this formula can be found [here](http://cs231n.github.io/convolutional-networks/#conv).\n",
    "\n",
    "For a pool layer with kernel_size=2 and stride=2, the output dimension will be reduced by a factor of 2.\n",
    "\n",
    "To feed the output of a convolutional/pooling layer into a linear layer, we must first flatten the extracted features into a vector. In PyTorch we can flatten an input `x` by using `x = x.view(x.size(0), -1)`.\n",
    "\n",
    "Finally, depending on our task we apply a final activation layer (e.g. softmax) to convert the outputs from the linear layer into class scores.  Note that some loss functions (e.g. CrossEntropy loss) include the softmax so we do not need to define it separately in the neural network architecture."
   ]
  },
  {
   "cell_type": "code",
   "execution_count": 92,
   "metadata": {},
   "outputs": [],
   "source": [
    "class ConvNet(nn.Module):\n",
    "\n",
    "    def __init__(self):\n",
    "        super(ConvNet, self).__init__()\n",
    "        \n",
    "        '''\n",
    "        Input shape: (batch_size,1,28,28)\n",
    "        \n",
    "        Convolutional 1 layer: 3x3 kernel, stride=1, 10 output channels / feature maps\n",
    "        Conv1 layer output size = (W-F)/S+1 = (28-3)/1+1 = 26\n",
    "        Conv1 layer output shape for one image: (10,26,26)\n",
    "        \n",
    "        Pooling layer: kernel_size=2,stride=2\n",
    "        Pooling1 output shape for one image: (10,13,13)\n",
    "        \n",
    "        Convolutional 2 layer: 3x3 kernel, stride=1, 20 output channels / feature maps\n",
    "        Conv2 layer output size = (W-F)/S+1 = (13-3)/1+1 = 11\n",
    "        Conv2 layer output shape for one image: (20,11,11)\n",
    "        \n",
    "        Pooling layer: kernel_size=2,stride=2\n",
    "        Pooling2 output shape for one image: (20,5,5) -> round 11/2=5.5 down to 5\n",
    "        \n",
    "        \n",
    "        Linear layer input shape: (batch_size, 20 channels * 5 * 5)\n",
    "        Linear layer output shape: (batch_size, 10 output classes)\n",
    "        \n",
    "        '''\n",
    "        \n",
    "        # Convolutional 1 layer: 3x3 kernel, stride=1, 10 output channels / feature maps\n",
    "        self.conv1 = nn.Conv2d(in_channels=1, out_channels=10, kernel_size=3, stride=1)\n",
    "        # Conv1 layer output size = (W-F)/S+1 = (28-3)/1+1 = 26\n",
    "        # Conv1 layer output shape for one image: (10,26,26)\n",
    "        \n",
    "        # maxpool layer\n",
    "        # pool with kernel_size=2, stride=2\n",
    "        self.pool1 = nn.MaxPool2d(kernel_size=2, stride=2)\n",
    "        # Pool output shape for one image: (10,13,13)\n",
    "        \n",
    "        # Convolutional 2 layer: 3x3 kernel, stride=1, 20 output channels / feature maps\n",
    "        self.conv2 = nn.Conv2d(in_channels=10,out_channels=20,kernel_size=3)\n",
    "        # Conv2 layer output size = (W-F)/S+1 = (13-3)/1+1 = 11\n",
    "        # Conv2 layer output shape for one image: (20,11,11)\n",
    "        \n",
    "        # maxpool layer\n",
    "        # pool with kernel_size=2, stride=2\n",
    "        self.pool2 = nn.MaxPool2d(kernel_size=2, stride=2)\n",
    "        # Pool output shape for one image: (20,5,5)\n",
    "        \n",
    "        # Input size: 20 * 5 * 5 = 500 from pool2 pooling layer\n",
    "        # 10 output channels (for the 10 classes)\n",
    "        self.fc1 = nn.Linear(20*5*5, 10)\n",
    "        \n",
    "    def forward(self, x):\n",
    "        # Two convolutional layers followed by relu and then pooling\n",
    "        x = self.pool1(F.relu(self.conv1(x)))\n",
    "        x = self.pool2(F.relu(self.conv2(x)))\n",
    "\n",
    "        # Flatten into a vector to feed into linear layer\n",
    "        x = x.view(x.size(0), -1)\n",
    "        \n",
    "        # Linear layer\n",
    "        x = self.fc1(x)\n",
    "        \n",
    "        return x\n",
    "\n",
    "net = ConvNet()"
   ]
  },
  {
   "cell_type": "markdown",
   "metadata": {},
   "source": [
    "### Step 3: Define a cost / loss function and optimizer"
   ]
  },
  {
   "cell_type": "code",
   "execution_count": 94,
   "metadata": {},
   "outputs": [],
   "source": [
    "# Cross entropy loss combines softmax and nn.NLLLoss() in one single class.\n",
    "criterion = nn.CrossEntropyLoss()\n",
    "\n",
    "# Define optimizer\n",
    "optimizer = optim.SGD(net.parameters(), lr=0.01)"
   ]
  },
  {
   "cell_type": "markdown",
   "metadata": {},
   "source": [
    "### Step 4: Train the model\n",
    "To train our model, we perform the following four steps in a loop, using one input mini-batch at a time:  \n",
    "    1) Make a forward pass through the network to calculate the network output  \n",
    "    2) Use the network output to calculate the cost/loss  \n",
    "    3) Calculate the gradient of the cost/loss with respect to the weights by performing a backward pass through the network with loss.backward()  \n",
    "    4) Update the weights by taking a step with the optimizer"
   ]
  },
  {
   "cell_type": "markdown",
   "metadata": {},
   "source": [
    "If GPU is available, we can move the model (all its parameter Tensors) onto GPU. If we decided to use GPU, we also need to put all the data Tensors used in training onto GPU."
   ]
  },
  {
   "cell_type": "code",
   "execution_count": 95,
   "metadata": {},
   "outputs": [],
   "source": [
    "device = torch.device(\"cuda\" if torch.cuda.is_available() else \"cpu\")"
   ]
  },
  {
   "cell_type": "code",
   "execution_count": 96,
   "metadata": {},
   "outputs": [
    {
     "name": "stdout",
     "output_type": "stream",
     "text": [
      "Epoch: 1, Batch: 1000, Avg. Loss: 1.2316\n",
      "Epoch: 1, Batch: 2000, Avg. Loss: 0.6716\n",
      "Epoch: 1, Batch: 3000, Avg. Loss: 0.5832\n",
      "Epoch: 2, Batch: 1000, Avg. Loss: 0.5177\n",
      "Epoch: 2, Batch: 2000, Avg. Loss: 0.4960\n",
      "Epoch: 2, Batch: 3000, Avg. Loss: 0.4840\n",
      "Epoch: 3, Batch: 1000, Avg. Loss: 0.4605\n",
      "Epoch: 3, Batch: 2000, Avg. Loss: 0.4505\n",
      "Epoch: 3, Batch: 3000, Avg. Loss: 0.4345\n",
      "Epoch: 4, Batch: 1000, Avg. Loss: 0.4166\n",
      "Epoch: 4, Batch: 2000, Avg. Loss: 0.4070\n",
      "Epoch: 4, Batch: 3000, Avg. Loss: 0.4208\n",
      "Epoch: 5, Batch: 1000, Avg. Loss: 0.3953\n",
      "Epoch: 5, Batch: 2000, Avg. Loss: 0.3973\n",
      "Epoch: 5, Batch: 3000, Avg. Loss: 0.3980\n"
     ]
    },
    {
     "data": {
      "image/png": "[encoded data removed]",
      "text/plain": [
       "<Figure size 432x288 with 1 Axes>"
      ]
     },
     "metadata": {
      "needs_background": "light"
     },
     "output_type": "display_data"
    }
   ],
   "source": [
    "def train_model(model,criterion,optimizer,train_loader,n_epochs,device):\n",
    "    \n",
    "    loss_over_time = [] # to track the loss as the network trains\n",
    "    \n",
    "    model = model.to(device) # Send model to GPU if available\n",
    "    model.train() # Set the model to training mode\n",
    "    \n",
    "    for epoch in range(n_epochs):  # loop over the dataset multiple times\n",
    "        \n",
    "        running_loss = 0.0\n",
    "        \n",
    "        for i, data in enumerate(train_loader):\n",
    "            \n",
    "            # Get the input images and labels, and send to GPU if available\n",
    "            inputs, labels = data[0].to(device), data[1].to(device)\n",
    "\n",
    "            # Zero the weight gradients\n",
    "            optimizer.zero_grad()\n",
    "\n",
    "            # Forward pass to get outputs\n",
    "            outputs = model(inputs)\n",
    "\n",
    "            # Calculate the loss\n",
    "            loss = criterion(outputs, labels)\n",
    "\n",
    "            # Backpropagation to get the gradients with respect to each weight\n",
    "            loss.backward()\n",
    "\n",
    "            # Update the weights\n",
    "            optimizer.step()\n",
    "\n",
    "            # Convert loss into a scalar and add it to running_loss\n",
    "            running_loss += loss.item()\n",
    "            \n",
    "            if i % 1000 == 999:    # print every 1000 batches\n",
    "                avg_loss = running_loss/1000\n",
    "                # record and print the avg loss over the 1000 batches\n",
    "                loss_over_time.append(avg_loss)\n",
    "                print('Epoch: {}, Batch: {}, Avg. Loss: {:.4f}'.format(epoch + 1, i+1, avg_loss))\n",
    "                running_loss = 0.0\n",
    "\n",
    "    return loss_over_time\n",
    "\n",
    "# Train the model\n",
    "n_epochs = 5\n",
    "cost_path = train_model(net,criterion,optimizer,train_loader,n_epochs,device)\n",
    "\n",
    "# visualize the loss as the network trained\n",
    "plt.plot(cost_path)\n",
    "plt.xlabel('Batch (1000s)')\n",
    "plt.ylabel('loss')\n",
    "plt.show()"
   ]
  },
  {
   "cell_type": "markdown",
   "metadata": {},
   "source": [
    "### Step 5: Test the model on the test set"
   ]
  },
  {
   "cell_type": "markdown",
   "metadata": {},
   "source": [
    "`MODEL.train()` and `MODEL.eval()` are functions acting as a switch which turns on/off any randomness of layers in the model such as dropout which are used to improve training but which we do not want to use while testing / in production."
   ]
  },
  {
   "cell_type": "code",
   "execution_count": 59,
   "metadata": {},
   "outputs": [
    {
     "name": "stdout",
     "output_type": "stream",
     "text": [
      "Test set accuracy is 0.853\n",
      "For class T-shirt/top, recall is 0.89\n",
      "For class Trouser, recall is 0.968\n",
      "For class Pullover, recall is 0.804\n",
      "For class Dress, recall is 0.834\n",
      "For class Coat, recall is 0.829\n",
      "For class Sandal, recall is 0.941\n",
      "For class Shirt, recall is 0.404\n",
      "For class Sneaker, recall is 0.946\n",
      "For class Bag, recall is 0.96\n",
      "For class Ankle boot, recall is 0.95\n"
     ]
    }
   ],
   "source": [
    "def test_model(model,test_loader,device):\n",
    "    # Turn autograd off\n",
    "    with torch.no_grad():\n",
    "\n",
    "        # Set the model to evaluation mode\n",
    "        model = model.to(device)\n",
    "        model.eval()\n",
    "\n",
    "        # Set up lists to store true and predicted values\n",
    "        y_true = []\n",
    "        test_preds = []\n",
    "\n",
    "        # Calculate the predictions on the test set and add to list\n",
    "        for data in test_loader:\n",
    "            inputs, labels = data[0].to(device), data[1].to(device)\n",
    "            # Feed inputs through model to get raw scores\n",
    "            logits = net.forward(inputs)\n",
    "            # Convert raw scores to probabilities (not necessary since we just care about discrete probs in this case)\n",
    "            probs = F.softmax(logits,dim=1)\n",
    "            # Get discrete predictions using argmax\n",
    "            preds = np.argmax(probs.numpy(),axis=1)\n",
    "            # Add predictions and actuals to lists\n",
    "            test_preds.extend(preds)\n",
    "            y_true.extend(labels)\n",
    "\n",
    "        # Calculate the accuracy\n",
    "        test_preds = np.array(test_preds)\n",
    "        y_true = np.array(y_true)\n",
    "        test_acc = np.sum(test_preds == y_true)/y_true.shape[0]\n",
    "        \n",
    "        # Recall for each class\n",
    "        recall_vals = []\n",
    "        for i in range(10):\n",
    "            class_idx = np.argwhere(y_true==i)\n",
    "            total = len(class_idx)\n",
    "            correct = np.sum(test_preds[class_idx]==i)\n",
    "            recall = correct / total\n",
    "            recall_vals.append(recall)\n",
    "    \n",
    "    return test_acc,recall_vals\n",
    "\n",
    "acc,recall_vals = test_model(net,test_loader,device)\n",
    "print('Test set accuracy is {:.3f}'.format(acc))\n",
    "for i in range(10):\n",
    "    print('For class {}, recall is {}'.format(classes[i],recall_vals[i]))"
   ]
  },
  {
   "cell_type": "code",
   "execution_count": 60,
   "metadata": {},
   "outputs": [
    {
     "data": {
      "image/png": "[encoded data removed]",
      "text/plain": [
       "<Figure size 1800x288 with 16 Axes>"
      ]
     },
     "metadata": {},
     "output_type": "display_data"
    }
   ],
   "source": [
    "# Get a batch of test images\n",
    "dataiter = iter(test_loader)\n",
    "images, labels = dataiter.next()\n",
    "# get predictions\n",
    "preds = np.squeeze(net(images).data.max(1, keepdim=True)[1].numpy()) #去掉dim=1的维度，为了画图\n",
    "images = images.numpy()\n",
    "\n",
    "# Plot the images in the batch, along with predicted and true labels\n",
    "fig = plt.figure(figsize=(25, 4))\n",
    "for idx in np.arange(batch_size):\n",
    "    ax = fig.add_subplot(2, batch_size//2, idx+1, xticks=[], yticks=[])\n",
    "    ax.imshow(np.squeeze(images[idx]), cmap='gray')\n",
    "    ax.set_title(\"{} ({})\".format(classes[preds[idx]], classes[labels[idx]]),\n",
    "                 color=(\"green\" if preds[idx]==labels[idx] else \"red\"))"
   ]
  },
  {
   "cell_type": "markdown",
   "metadata": {},
   "source": [
    "### Saving models\n",
    "To save PyTorch models for later use, we have two options:  \n",
    "1) We can save the `state_dict` which contains all the learned parameters of the model (the weights and biases) but not the architecture itself.  To use it, we instantiate a new model of the desired architecture and then load the saved `state_dict` to assign values to all the parameters in the model  \n",
    "2) We can alternatively save the entire model including the architecture, and then load it up and use it for prediction"
   ]
  },
  {
   "cell_type": "code",
   "execution_count": 61,
   "metadata": {},
   "outputs": [],
   "source": [
    "# OPTION 1: Save the state dictionary of the model\n",
    "\n",
    "model_dir = 'saved_models/'\n",
    "filename = 'model_state_dict.pt'\n",
    "\n",
    "# Save the model's learned parameters (state_dict)\n",
    "torch.save(net.state_dict(), model_dir+filename)"
   ]
  },
  {
   "cell_type": "code",
   "execution_count": 64,
   "metadata": {},
   "outputs": [
    {
     "name": "stdout",
     "output_type": "stream",
     "text": [
      "Model's state_dict:\n",
      "conv1.weight \t torch.Size([10, 1, 3, 3])\n",
      "conv1.bias \t torch.Size([10])\n",
      "conv2.weight \t torch.Size([20, 10, 3, 3])\n",
      "conv2.bias \t torch.Size([20])\n",
      "fc1.weight \t torch.Size([10, 500])\n",
      "fc1.bias \t torch.Size([10])\n",
      "\n",
      "Test set accuracy is 0.853\n",
      "For class T-shirt/top, recall is 0.89\n",
      "For class Trouser, recall is 0.968\n",
      "For class Pullover, recall is 0.804\n",
      "For class Dress, recall is 0.834\n",
      "For class Coat, recall is 0.829\n",
      "For class Sandal, recall is 0.941\n",
      "For class Shirt, recall is 0.404\n",
      "For class Sneaker, recall is 0.946\n",
      "For class Bag, recall is 0.96\n",
      "For class Ankle boot, recall is 0.95\n"
     ]
    }
   ],
   "source": [
    "# Initialize new model as ConvNet() class and load state dict previously saved\n",
    "model = ConvNet()\n",
    "model.load_state_dict(torch.load(model_dir+filename))\n",
    "\n",
    "# Print model's state_dict\n",
    "print(\"Model's state_dict:\")\n",
    "for param_tensor in model.state_dict():\n",
    "    print(param_tensor, \"\\t\", model.state_dict()[param_tensor].size())\n",
    "    \n",
    "# Test loaded model\n",
    "acc,recall_vals = test_model(model,test_loader,device)\n",
    "print()\n",
    "print('Test set accuracy is {:.3f}'.format(acc))\n",
    "for i in range(10):\n",
    "    print('For class {}, recall is {}'.format(classes[i],recall_vals[i]))"
   ]
  },
  {
   "cell_type": "code",
   "execution_count": null,
   "metadata": {},
   "outputs": [],
   "source": [
    "# OPTION 2: Save the entire model\n",
    "\n",
    "model_dir = 'saved_models/'\n",
    "filename = 'fullmodel.pt'\n",
    "\n",
    "# Save the entire model\n",
    "torch.save(net, model_dir+filename)"
   ]
  },
  {
   "cell_type": "code",
   "execution_count": null,
   "metadata": {},
   "outputs": [],
   "source": [
    "# Load model\n",
    "model2 = torch.load(model_dir+filename)\n",
    "\n",
    "# Test loaded model\n",
    "acc,recall_vals = test_model(model2,test_loader,device)\n",
    "print('Test set accuracy is {:.3f}'.format(acc))\n",
    "for i in range(10):\n",
    "    print('For class {}, recall is {}'.format(classes[i],recall_vals[i]))"
   ]
  },
  {
   "cell_type": "markdown",
   "metadata": {},
   "source": [
    "# Using Pre-trained Models\n",
    "Rather than creating our own model from scratch, we can use models which have been pre-trained on other generic tasks to take advantage of the training that has already occurred.  When we do this, we usually keep the model parameters fixed except for the last layer.  We use a new last layer (a fully connected Linear layer) which we then train on our specific task.\n",
    "\n",
    "All models which have been pre-trained on ImageNet expect input images normalized in the same way, i.e. mini-batches of 3-channel\n",
    "RGB images of shape (3 x H x W), where H and W are expected to be at least 224. The images have to be loaded with pixel values a range of [0, 1] (accomplished by using `transforms.ToTensor()`) and then normalized using the mean and standard deviation of image pixel values.  Since it can be difficult to calculate these statistics, we often just normalize by the mean and standard deviation of the ImageNet images, which are mean = [0.485, 0.456, 0.406] and std = [0.229, 0.224, 0.225]. You can use the following transform to normalize: `normalize = transforms.Normalize(mean=[0.485, 0.456, 0.406],std=[0.229, 0.224, 0.225])`\n",
    "\n",
    "In this example we will load a ResNet18 model and use it on the FashionMNIST dataset. The FashionMNIST dataset has a couple of differences relative to the ImageNet dataset on which pretrained models are trained:  \n",
    "- It is grayscale so has only 1 channel instead of 3. \n",
    "- It is 28*28 rather than 224*224. \n",
    "- The pixel values mean and standard deviation are quite different from the images in ImageNet  \n",
    "- We have only 10 classes as output\n",
    "\n",
    "Because of those differences, we need to make two adjustments to use our pretrained model:  \n",
    "1) We need to transform our input image data to be 224*224 and normalize using the images mean and standard deviation  \n",
    "2) We need to change our net architecture to accomodate 1 input channel, and 10 output classes\n",
    "\n",
    "NOTE: THIS MUST BE RUN ON GPU"
   ]
  },
  {
   "cell_type": "code",
   "execution_count": null,
   "metadata": {},
   "outputs": [],
   "source": [
    "# We need to add a transformation to our input image data\n",
    "# Resnet18 expects input images of shape 224*224\n",
    "# We also should normalize our pixel values by subracting mean and dividing by standard deviation of training set values\n",
    "\n",
    "train_data = FashionMNIST(root='./data', train=True, download=True)\n",
    "\n",
    "data_transform = transforms.Compose([ transforms.Resize((224, 224)),\n",
    "                                         transforms.ToTensor(), \n",
    "                                         transforms.Normalize((train_data.data.float().mean()/255), (train_data.data.float().std()/255))])\n",
    "\n",
    "train_data_resnet = FashionMNIST(root='./data', train=True,\n",
    "                                   download=True, transform=data_transform)\n",
    "\n",
    "test_data_resnet = FashionMNIST(root='./data', train=False,\n",
    "                                  download=True, transform=data_transform)\n",
    "\n",
    "batch_size = 16\n",
    "train_loader_resnet = DataLoader(train_data_resnet,batch_size=batch_size, shuffle=True)\n",
    "test_loader_resnet = DataLoader(test_data_resnet,batch_size=batch_size, shuffle=False)"
   ]
  },
  {
   "cell_type": "code",
   "execution_count": null,
   "metadata": {},
   "outputs": [],
   "source": [
    "# Load a resnet18 pre-trained model\n",
    "model_resnet = torchvision.models.resnet18(pretrained=True)\n",
    "# Shut off autograd for all layers to freeze model so the layer weights are not trained\n",
    "for param in model_resnet.parameters():\n",
    "    param.requires_grad = False\n",
    "    \n",
    "# Replace the resnet input layer to take in grayscale images (1 input channel), since it was trained on color (3 input channels)\n",
    "in_channels = 1\n",
    "model_resnet.conv1 = nn.Conv2d(in_channels, 64, kernel_size=7, stride=2, padding=3, bias=False)\n",
    "\n",
    "# Replace the resnet final layer with a new fully connected Linear layer \n",
    "# we will train on our task\n",
    "# Number of out units is number of classes (10)\n",
    "num_ftrs = model_resnet.fc.in_features\n",
    "model_resnet.fc = nn.Linear(num_ftrs, 10)\n",
    "\n",
    "# Train the model\n",
    "n_epochs = 3\n",
    "criterion = nn.CrossEntropyLoss()\n",
    "optimizer = optim.SGD(model_resnet.parameters(), lr=0.001)\n",
    "device = torch.device(\"cuda\" if torch.cuda.is_available() else \"cpu\")\n",
    "cost_path = train_model(model_resnet,criterion,optimizer,train_loader_resnet,n_epochs,device)\n",
    "\n",
    "# Visualize the loss as the network trained\n",
    "plt.plot(cost_path)\n",
    "plt.xlabel('Batch (1000s)')\n",
    "plt.ylabel('loss')\n",
    "plt.show()"
   ]
  },
  {
   "cell_type": "code",
   "execution_count": null,
   "metadata": {},
   "outputs": [],
   "source": [
    "# Test the pre-trained model\n",
    "acc,recall_vals = test_model(model_resnet,test_loader_resnet,device)\n",
    "print('Test set accuracy is {:.3f}'.format(acc))\n",
    "for i in range(10):\n",
    "    print('For class {}, recall is {}'.format(classes[i],recall_vals[i]))"
   ]
  }
 ],
 "metadata": {
  "kernelspec": {
   "display_name": "Python 3",
   "language": "python",
   "name": "python3"
  },
  "language_info": {
   "codemirror_mode": {
    "name": "ipython",
    "version": 3
   },
   "file_extension": ".py",
   "mimetype": "text/x-python",
   "name": "python",
   "nbconvert_exporter": "python",
   "pygments_lexer": "ipython3",
   "version": "3.7.1"
  },
  "latex_envs": {
   "LaTeX_envs_menu_present": true,
   "autoclose": false,
   "autocomplete": true,
   "bibliofile": "biblio.bib",
   "cite_by": "apalike",
   "current_citInitial": 1,
   "eqLabelWithNumbers": true,
   "eqNumInitial": 1,
   "hotkeys": {
    "equation": "Ctrl-E",
    "itemize": "Ctrl-I"
   },
   "labels_anchors": false,
   "latex_user_defs": false,
   "report_style_numbering": false,
   "user_envs_cfg": false
  },
  "toc": {
   "base_numbering": 1,
   "nav_menu": {},
   "number_sections": true,
   "sideBar": true,
   "skip_h1_title": false,
   "title_cell": "Table of Contents",
   "title_sidebar": "Contents",
   "toc_cell": false,
   "toc_position": {},
   "toc_section_display": true,
   "toc_window_display": false
  }
 },
 "nbformat": 4,
 "nbformat_minor": 4
}
